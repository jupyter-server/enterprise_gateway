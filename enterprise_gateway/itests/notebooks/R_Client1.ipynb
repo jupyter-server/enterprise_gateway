{
 "cells": [
  {
   "cell_type": "code",
   "execution_count": 1,
   "metadata": {
    "collapsed": false
   },
   "outputs": [
    {
     "name": "stdout",
     "output_type": "stream",
     "text": [
      "[1] \"Hello World\"\n"
     ]
    }
   ],
   "source": [
    "print(\"Hello World\")"
   ]
  },
  {
   "cell_type": "code",
   "execution_count": 2,
   "metadata": {
    "collapsed": false
   },
   "outputs": [
    {
     "name": "stderr",
     "output_type": "stream",
     "text": [
      "Obtaining Spark session...\n",
      "Spark session obtained.\n"
     ]
    },
    {
     "data": {
      "text/html": [
       "'application_1512070656800_0218'"
      ],
      "text/latex": [
       "'application\\_1512070656800\\_0218'"
      ],
      "text/markdown": [
       "'application_1512070656800_0218'"
      ],
      "text/plain": [
       "[1] \"application_1512070656800_0218\""
      ]
     },
     "metadata": {},
     "output_type": "display_data"
    }
   ],
   "source": [
    "SparkR:::callJMethod(SparkR:::callJMethod(sc, \"sc\"), \"applicationId\")"
   ]
  },
  {
   "cell_type": "code",
   "execution_count": 3,
   "metadata": {
    "collapsed": false
   },
   "outputs": [
    {
     "data": {
      "text/html": [
       "'2.1.1.2.6.2.0-205'"
      ],
      "text/latex": [
       "'2.1.1.2.6.2.0-205'"
      ],
      "text/markdown": [
       "'2.1.1.2.6.2.0-205'"
      ],
      "text/plain": [
       "[1] \"2.1.1.2.6.2.0-205\""
      ]
     },
     "metadata": {},
     "output_type": "display_data"
    }
   ],
   "source": [
    "SparkR:::callJMethod(SparkR:::callJMethod(sc, \"sc\"), \"version\")"
   ]
  },
  {
   "cell_type": "code",
   "execution_count": 4,
   "metadata": {
    "collapsed": false
   },
   "outputs": [
    {
     "data": {
      "text/html": [
       "<strong>spark.master:</strong> 'yarn'"
      ],
      "text/latex": [
       "\\textbf{spark.master:} 'yarn'"
      ],
      "text/markdown": [
       "**spark.master:** 'yarn'"
      ],
      "text/plain": [
       "spark.master \n",
       "      \"yarn\" "
      ]
     },
     "metadata": {},
     "output_type": "display_data"
    }
   ],
   "source": [
    "masterValue <- unlist(sparkR.conf(\"spark.master\"))\n",
    "masterValue"
   ]
  },
  {
   "cell_type": "code",
   "execution_count": 5,
   "metadata": {
    "collapsed": false
   },
   "outputs": [
    {
     "data": {
      "text/html": [
       "<strong>spark.submit.deployMode:</strong> 'client'"
      ],
      "text/latex": [
       "\\textbf{spark.submit.deployMode:} 'client'"
      ],
      "text/markdown": [
       "**spark.submit.deployMode:** 'client'"
      ],
      "text/plain": [
       "spark.submit.deployMode \n",
       "               \"client\" "
      ]
     },
     "metadata": {},
     "output_type": "display_data"
    }
   ],
   "source": [
    "deployMode <- unlist(sparkR.conf(\"spark.submit.deployMode\"))\n",
    "deployMode"
   ]
  },
  {
   "cell_type": "code",
   "execution_count": 6,
   "metadata": {
    "collapsed": false
   },
   "outputs": [
    {
     "data": {
      "text/html": [
       "<strong>spark.driver.host:</strong> '172.16.155.185'"
      ],
      "text/latex": [
       "\\textbf{spark.driver.host:} '172.16.155.185'"
      ],
      "text/markdown": [
       "**spark.driver.host:** '172.16.155.185'"
      ],
      "text/plain": [
       "spark.driver.host \n",
       " \"172.16.155.185\" "
      ]
     },
     "metadata": {},
     "output_type": "display_data"
    }
   ],
   "source": [
    "unlist(sparkR.conf(\"spark.driver.host\"))"
   ]
  }
 ],
 "metadata": {
  "kernelspec": {
   "display_name": "Spark - R (YARN Client Mode)",
   "language": "R",
   "name": "spark_r_yarn_client"
  },
  "language_info": {
   "codemirror_mode": "r",
   "file_extension": ".r",
   "mimetype": "text/x-r-source",
   "name": "R",
   "pygments_lexer": "r",
   "version": "3.4.1"
  }
 },
 "nbformat": 4,
 "nbformat_minor": 2
}
