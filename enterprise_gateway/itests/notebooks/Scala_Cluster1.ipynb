{
 "cells": [
  {
   "cell_type": "markdown",
   "metadata": {},
   "source": [
    "### Verify the application name and application ID with YARN RM web UI"
   ]
  },
  {
   "cell_type": "code",
   "execution_count": 1,
   "metadata": {
    "collapsed": false
   },
   "outputs": [
    {
     "data": {
      "text/plain": [
       "Waiting for a Spark session to start..."
      ]
     },
     "metadata": {},
     "output_type": "display_data"
    },
    {
     "name": "stdout",
     "output_type": "stream",
     "text": [
      "8f6ef355-1491-4df1-83df-f24ceade34bd\n"
     ]
    }
   ],
   "source": [
    "//DIFFERENT\n",
    "println(sc.appName)\n",
    "sc.applicationId"
   ]
  },
  {
   "cell_type": "markdown",
   "metadata": {},
   "source": [
    "### Verify the application config parameters with YARN RM web UI"
   ]
  },
  {
   "cell_type": "code",
   "execution_count": 2,
   "metadata": {
    "collapsed": false
   },
   "outputs": [
    {
     "data": {
      "text/plain": [
       "conf = org.apache.spark.SparkConf@77d62788\n"
      ]
     },
     "metadata": {},
     "output_type": "display_data"
    },
    {
     "data": {
      "text/plain": [
       "org.apache.spark.SparkConf@77d62788"
      ]
     },
     "execution_count": 2,
     "metadata": {},
     "output_type": "execute_result"
    }
   ],
   "source": [
    "//DEPENDS\n",
    "var conf = sc.getConf"
   ]
  },
  {
   "cell_type": "code",
   "execution_count": 3,
   "metadata": {
    "collapsed": false
   },
   "outputs": [
    {
     "name": "stdout",
     "output_type": "stream",
     "text": [
      "yarn\n",
      "cluster\n"
     ]
    }
   ],
   "source": [
    "println(conf.get(\"spark.master\"))\n",
    "println(conf.get(\"spark.submit.deployMode\"))"
   ]
  },
  {
   "cell_type": "markdown",
   "metadata": {},
   "source": [
    "### Verify the host where the Kernel is running on"
   ]
  },
  {
   "cell_type": "code",
   "execution_count": 4,
   "metadata": {
    "collapsed": false
   },
   "outputs": [
    {
     "name": "stdout",
     "output_type": "stream",
     "text": [
      "172.16.213.83\n"
     ]
    }
   ],
   "source": [
    "//DEPENDS\n",
    "println(conf.get(\"spark.driver.host\"))"
   ]
  },
  {
   "cell_type": "markdown",
   "metadata": {},
   "source": [
    "### Add Jar magic"
   ]
  },
  {
   "cell_type": "code",
   "execution_count": 5,
   "metadata": {
    "collapsed": false
   },
   "outputs": [
    {
     "data": {
      "text/plain": [
       "Name: Compile Error\n",
       "Message: <console>:27: error: object lwjgl is not a member of package org\n",
       "       org.lwjgl.Version.getVersion()\n",
       "           ^\n",
       "\n",
       "StackTrace: "
      ]
     },
     "execution_count": 5,
     "metadata": {},
     "output_type": "execute_result"
    }
   ],
   "source": [
    "// Will throw Compile Error\n",
    "org.lwjgl.Version.getVersion()"
   ]
  },
  {
   "cell_type": "markdown",
   "metadata": {},
   "source": [
    "#### The JAR file will be downloaded to the driver host, under path:\n",
    "#### /hadoop/yarn/local/usercache/[username]/appcache/[appID]/[containerID]/tmp/"
   ]
  },
  {
   "cell_type": "code",
   "execution_count": 6,
   "metadata": {
    "collapsed": false
   },
   "outputs": [
    {
     "name": "stdout",
     "output_type": "stream",
     "text": [
      "Starting download from https://repo1.maven.org/maven2/org/lwjgl/lwjgl/3.0.0b/lwjgl-3.0.0b.jar\n",
      "Finished download of lwjgl-3.0.0b.jar\n"
     ]
    },
    {
     "data": {
      "text/plain": [
       "error: error while loading Encoders, class file '/hadoop/yarn/local/filecache/10/spark2-hdp-yarn-archive.tar.gz/spark-catalyst_2.11-2.1.1.2.6.1.0-129.jar(org/apache/spark/sql/Encoders.class)' has location not matching its contents: contains class Encoders\n",
       "error: error while loading RowFactory, class file '/hadoop/yarn/local/filecache/10/spark2-hdp-yarn-archive.tar.gz/spark-catalyst_2.11-2.1.1.2.6.1.0-129.jar(org/apache/spark/sql/RowFactory.class)' has location not matching its contents: contains class RowFactory\n",
       "error: error while loading AnalysisException, class file '/hadoop/yarn/local/filecache/10/spark2-hdp-yarn-archive.tar.gz/spark-catalyst_2.11-2.1.1.2.6.1.0-129.jar(org/apache/spark/sql/AnalysisException.class)' has location not matching its contents: contains class AnalysisException\n",
       "error: error while loading functions, class file '/hadoop/yarn/local/filecache/10/spark2-hdp-yarn-archive.tar.gz/spark-sql_2.11-2.1.1.2.6.1.0-129.jar(org/apache/spark/sql/functions.class)' has location not matching its contents: contains class functions\n",
       "error: error while loading DataFrameStatFunctions, class file '/hadoop/yarn/local/filecache/10/spark2-hdp-yarn-archive.tar.gz/spark-sql_2.11-2.1.1.2.6.1.0-129.jar(org/apache/spark/sql/DataFrameStatFunctions.class)' has location not matching its contents: contains class DataFrameStatFunctions\n",
       "error: error while loading ForeachWriter, class file '/hadoop/yarn/local/filecache/10/spark2-hdp-yarn-archive.tar.gz/spark-sql_2.11-2.1.1.2.6.1.0-129.jar(org/apache/spark/sql/ForeachWriter.class)' has location not matching its contents: contains class ForeachWriter\n",
       "error: error while loading SaveMode, class file '/hadoop/yarn/local/filecache/10/spark2-hdp-yarn-archive.tar.gz/spark-sql_2.11-2.1.1.2.6.1.0-129.jar(org/apache/spark/sql/SaveMode.class)' has location not matching its contents: contains class SaveMode\n",
       "error: error while loading RelationalGroupedDataset, class file '/hadoop/yarn/local/filecache/10/spark2-hdp-yarn-archive.tar.gz/spark-sql_2.11-2.1.1.2.6.1.0-129.jar(org/apache/spark/sql/RelationalGroupedDataset.class)' has location not matching its contents: contains class RelationalGroupedDataset\n",
       "error: error while loading DataFrameNaFunctions, class file '/hadoop/yarn/local/filecache/10/spark2-hdp-yarn-archive.tar.gz/spark-sql_2.11-2.1.1.2.6.1.0-129.jar(org/apache/spark/sql/DataFrameNaFunctions.class)' has location not matching its contents: contains class DataFrameNaFunctions\n",
       "error: error while loading Column, class file '/hadoop/yarn/local/filecache/10/spark2-hdp-yarn-archive.tar.gz/spark-sql_2.11-2.1.1.2.6.1.0-129.jar(org/apache/spark/sql/Column.class)' has location not matching its contents: contains class Column\n",
       "error: error while loading TypedColumn, class file '/hadoop/yarn/local/filecache/10/spark2-hdp-yarn-archive.tar.gz/spark-sql_2.11-2.1.1.2.6.1.0-129.jar(org/apache/spark/sql/TypedColumn.class)' has location not matching its contents: contains class TypedColumn\n",
       "error: error while loading KeyValueGroupedDataset, class file '/hadoop/yarn/local/filecache/10/spark2-hdp-yarn-archive.tar.gz/spark-sql_2.11-2.1.1.2.6.1.0-129.jar(org/apache/spark/sql/KeyValueGroupedDataset.class)' has location not matching its contents: contains class KeyValueGroupedDataset\n",
       "error: error while loading DataFrameWriter, class file '/hadoop/yarn/local/filecache/10/spark2-hdp-yarn-archive.tar.gz/spark-sql_2.11-2.1.1.2.6.1.0-129.jar(org/apache/spark/sql/DataFrameWriter.class)' has location not matching its contents: contains class DataFrameWriter\n",
       "error: error while loading package, class file '/hadoop/yarn/local/filecache/10/spark2-hdp-yarn-archive.tar.gz/spark-hive_2.11-2.1.1.2.6.1.0-129.jar(org/apache/spark/sql/hive/package.class)' has location not matching its contents: contains package object hive\n",
       "error: error while loading package, class file '/hadoop/yarn/local/filecache/10/spark2-hdp-yarn-archive.tar.gz/spark-sql_2.11-2.1.1.2.6.1.0-129.jar(org/apache/spark/sql/api/package.class)' has location not matching its contents: contains package object api\n",
       "error: error while loading UnsafeExternalRowSorter, class file '/hadoop/yarn/local/filecache/10/spark2-hdp-yarn-archive.tar.gz/spark-catalyst_2.11-2.1.1.2.6.1.0-129.jar(org/apache/spark/sql/execution/UnsafeExternalRowSorter.class)' has location not matching its contents: contains class UnsafeExternalRowSorter\n",
       "error: error while loading UnsafeKeyValueSorter, class file '/hadoop/yarn/local/filecache/10/spark2-hdp-yarn-archive.tar.gz/spark-catalyst_2.11-2.1.1.2.6.1.0-129.jar(org/apache/spark/sql/execution/UnsafeKeyValueSorter.class)' has location not matching its contents: contains class UnsafeKeyValueSorter\n",
       "error: error while loading CacheManager, class file '/hadoop/yarn/local/filecache/10/spark2-hdp-yarn-archive.tar.gz/spark-sql_2.11-2.1.1.2.6.1.0-129.jar(org/apache/spark/sql/execution/CacheManager.class)' has location not matching its contents: contains class CacheManager\n",
       "error: error while loading PartitionIdPassthrough, class file '/hadoop/yarn/local/filecache/10/spark2-hdp-yarn-archive.tar.gz/spark-sql_2.11-2.1.1.2.6.1.0-129.jar(org/apache/spark/sql/execution/PartitionIdPassthrough.class)' has location not matching its contents: contains class PartitionIdPassthrough\n",
       "error: error while loading SparkSqlAstBuilder, class file '/hadoop/yarn/local/filecache/10/spark2-hdp-yarn-archive.tar.gz/spark-sql_2.11-2.1.1.2.6.1.0-129.jar(org/apache/spark/sql/execution/SparkSqlAstBuilder.class)' has location not matching its contents: contains class SparkSqlAstBuilder\n",
       "error: error while loading MapPartitionsExec, class file '/hadoop/yarn/local/filecache/10/spark2-hdp-yarn-archive.tar.gz/spark-sql_2.11-2.1.1.2.6.1.0-129.jar(org/apache/spark/sql/execution/MapPartitionsExec.class)' has location not matching its contents: contains class MapPartitionsExec\n",
       "error: error while loading ExpandExec, class file '/hadoop/yarn/local/filecache/10/spark2-hdp-yarn-archive.tar.gz/spark-sql_2.11-2.1.1.2.6.1.0-129.jar(org/apache/spark/sql/execution/ExpandExec.class)' has location not matching its contents: contains class ExpandExec\n",
       "error: error while loading UnaryExecNode, class file '/hadoop/yarn/local/filecache/10/spark2-hdp-yarn-archive.tar.gz/spark-sql_2.11-2.1.1.2.6.1.0-129.jar(org/apache/spark/sql/execution/UnaryExecNode.class)' has location not matching its contents: contains class UnaryExecNode\n",
       "error: error while loading SampleExec, class file '/hadoop/yarn/local/filecache/10/spark2-hdp-yarn-archive.tar.gz/spark-sql_2.11-2.1.1.2.6.1.0-129.jar(org/apache/spark/sql/execution/SampleExec.class)' has location not matching its contents: contains class SampleExec\n",
       "error: error while loading ExternalRDD, class file '/hadoop/yarn/local/filecache/10/spark2-hdp-yarn-archive.tar.gz/spark-sql_2.11-2.1.1.2.6.1.0-129.jar(org/apache/spark/sql/execution/ExternalRDD.class)' has location not matching its contents: contains class ExternalRDD\n",
       "error: error while loading LocalTableScanExec, class file '/hadoop/yarn/local/filecache/10/spark2-hdp-yarn-archive.tar.gz/spark-sql_2.11-2.1.1.2.6.1.0-129.jar(org/apache/spark/sql/execution/LocalTableScanExec.class)' has location not matching its contents: contains class LocalTableScanExec\n",
       "error: error while loading LazyIterator, class file '/hadoop/yarn/local/filecache/10/spark2-hdp-yarn-archive.tar.gz/spark-sql_2.11-2.1.1.2.6.1.0-129.jar(org/apache/spark/sql/execution/LazyIterator.class)' has location not matching its contents: contains class LazyIterator\n",
       "error: error while loading InSubquery, class file '/hadoop/yarn/local/filecache/10/spark2-hdp-yarn-archive.tar.gz/spark-sql_2.11-2.1.1.2.6.1.0-129.jar(org/apache/spark/sql/execution/InSubquery.class)' has location not matching its contents: contains class InSubquery\n",
       "error: error while loading SQLExecution, class file '/hadoop/yarn/local/filecache/10/spark2-hdp-yarn-archive.tar.gz/spark-sql_2.11-2.1.1.2.6.1.0-129.jar(org/apache/spark/sql/execution/SQLExecution.class)' has location not matching its contents: contains class SQLExecution\n",
       "error: error while loading MapGroupsExec, class file '/hadoop/yarn/local/filecache/10/spark2-hdp-yarn-archive.tar.gz/spark-sql_2.11-2.1.1.2.6.1.0-129.jar(org/apache/spark/sql/execution/MapGroupsExec.class)' has location not matching its contents: contains class MapGroupsExec\n",
       "error: error while loading SparkSqlParser, class file '/hadoop/yarn/local/filecache/10/spark2-hdp-yarn-archive.tar.gz/spark-sql_2.11-2.1.1.2.6.1.0-129.jar(org/apache/spark/sql/execution/SparkSqlParser.class)' has location not matching its contents: contains class SparkSqlParser\n",
       "error: error while loading CoGroupedIterator, class file '/hadoop/yarn/local/filecache/10/spark2-hdp-yarn-archive.tar.gz/spark-sql_2.11-2.1.1.2.6.1.0-129.jar(org/apache/spark/sql/execution/CoGroupedIterator.class)' has location not matching its contents: contains class CoGroupedIterator\n",
       "error: error while loading MapElementsExec, class file '/hadoop/yarn/local/filecache/10/spark2-hdp-yarn-archive.tar.gz/spark-sql_2.11-2.1.1.2.6.1.0-129.jar(org/apache/spark/sql/execution/MapElementsExec.class)' has location not matching its contents: contains class MapElementsExec\n",
       "error: error while loading SparkPlan, class file '/hadoop/yarn/local/filecache/10/spark2-hdp-yarn-archive.tar.gz/spark-sql_2.11-2.1.1.2.6.1.0-129.jar(org/apache/spark/sql/execution/SparkPlan.class)' has location not matching its contents: contains class SparkPlan\n",
       "error: error while loading FileRelation, class file '/hadoop/yarn/local/filecache/10/spark2-hdp-yarn-archive.tar.gz/spark-sql_2.11-2.1.1.2.6.1.0-129.jar(org/apache/spark/sql/execution/FileRelation.class)' has location not matching its contents: contains class FileRelation\n",
       "error: error while loading UnsafeFixedWidthAggregationMap, class file '/hadoop/yarn/local/filecache/10/spark2-hdp-yarn-archive.tar.gz/spark-sql_2.11-2.1.1.2.6.1.0-129.jar(org/apache/spark/sql/execution/UnsafeFixedWidthAggregationMap.class)' has location not matching its contents: contains class UnsafeFixedWidthAggregationMap\n",
       "error: error while loading LogicalRDD, class file '/hadoop/yarn/local/filecache/10/spark2-hdp-yarn-archive.tar.gz/spark-sql_2.11-2.1.1.2.6.1.0-129.jar(org/apache/spark/sql/execution/LogicalRDD.class)' has location not matching its contents: contains class LogicalRDD\n",
       "error: error while loading OutputFakerExec, class file '/hadoop/yarn/local/filecache/10/spark2-hdp-yarn-archive.tar.gz/spark-sql_2.11-2.1.1.2.6.1.0-129.jar(org/apache/spark/sql/execution/OutputFakerExec.class)' has location not matching its contents: contains class OutputFakerExec\n",
       "error: error while loading ShuffledRowRDDPartition, class file '/hadoop/yarn/local/filecache/10/spark2-hdp-yarn-archive.tar.gz/spark-sql_2.11-2.1.1.2.6.1.0-129.jar(org/apache/spark/sql/execution/ShuffledRowRDDPartition.class)' has location not matching its contents: contains class ShuffledRowRDDPartition\n",
       "error: error while loading RowDataSourceScanExec, class file '/hadoop/yarn/local/filecache/10/spark2-hdp-yarn-archive.tar.gz/spark-sql_2.11-2.1.1.2.6.1.0-129.jar(org/apache/spark/sql/execution/RowDataSourceScanExec.class)' has location not matching its contents: contains class RowDataSourceScanExec\n",
       "error: error while loading SparkPlanInfo, class file '/hadoop/yarn/local/filecache/10/spark2-hdp-yarn-archive.tar.gz/spark-sql_2.11-2.1.1.2.6.1.0-129.jar(org/apache/spark/sql/execution/SparkPlanInfo.class)' has location not matching its contents: contains class SparkPlanInfo\n",
       "error: error while loading BaseLimitExec, class file '/hadoop/yarn/local/filecache/10/spark2-hdp-yarn-archive.tar.gz/spark-sql_2.11-2.1.1.2.6.1.0-129.jar(org/apache/spark/sql/execution/BaseLimitExec.class)' has location not matching its contents: contains class BaseLimitExec\n",
       "error: error while loading WholeStageCodegenExec, class file '/hadoop/yarn/local/filecache/10/spark2-hdp-yarn-archive.tar.gz/spark-sql_2.11-2.1.1.2.6.1.0-129.jar(org/apache/spark/sql/execution/WholeStageCodegenExec.class)' has location not matching its contents: contains class WholeStageCodegenExec\n",
       "error: error while loading SortExec, class file '/hadoop/yarn/local/filecache/10/spark2-hdp-yarn-archive.tar.gz/spark-sql_2.11-2.1.1.2.6.1.0-129.jar(org/apache/spark/sql/execution/SortExec.class)' has location not matching its contents: contains class SortExec\n",
       "error: error while loading ObjectProducerExec, class file '/hadoop/yarn/local/filecache/10/spark2-hdp-yarn-archive.tar.gz/spark-sql_2.11-2.1.1.2.6.1.0-129.jar(org/apache/spark/sql/execution/ObjectProducerExec.class)' has location not matching its contents: contains class ObjectProducerExec\n",
       "error: error while loading InputAdapter, class file '/hadoop/yarn/local/filecache/10/spark2-hdp-yarn-archive.tar.gz/spark-sql_2.11-2.1.1.2.6.1.0-129.jar(org/apache/spark/sql/execution/InputAdapter.class)' has location not matching its contents: contains class InputAdapter\n",
       "error: error while loading ScalarSubquery, class file '/hadoop/yarn/local/filecache/10/spark2-hdp-yarn-archive.tar.gz/spark-sql_2.11-2.1.1.2.6.1.0-129.jar(org/apache/spark/sql/execution/ScalarSubquery.class)' has location not matching its contents: contains class ScalarSubquery\n",
       "error: error while loading FileSourceScanExec, class file '/hadoop/yarn/local/filecache/10/spark2-hdp-yarn-archive.tar.gz/spark-sql_2.11-2.1.1.2.6.1.0-129.jar(org/apache/spark/sql/execution/FileSourceScanExec.class)' has location not matching its contents: contains class FileSourceScanExec\n",
       "error: error while loading ProjectExec, class file '/hadoop/yarn/local/filecache/10/spark2-hdp-yarn-archive.tar.gz/spark-sql_2.11-2.1.1.2.6.1.0-129.jar(org/apache/spark/sql/execution/ProjectExec.class)' has location not matching its contents: contains class ProjectExec\n",
       "error: error while loading RowIteratorFromScala, class file '/hadoop/yarn/local/filecache/10/spark2-hdp-yarn-archive.tar.gz/spark-sql_2.11-2.1.1.2.6.1.0-129.jar(org/apache/spark/sql/execution/RowIteratorFromScala.class)' has location not matching its contents: contains class RowIteratorFromScala\n",
       "error: error while loading RowIteratorToScala, class file '/hadoop/yarn/local/filecache/10/spark2-hdp-yarn-archive.tar.gz/spark-sql_2.11-2.1.1.2.6.1.0-129.jar(org/apache/spark/sql/execution/RowIteratorToScala.class)' has location not matching its contents: contains class RowIteratorToScala\n",
       "error: error while loading ObjectOperator, class file '/hadoop/yarn/local/filecache/10/spark2-hdp-yarn-archive.tar.gz/spark-sql_2.11-2.1.1.2.6.1.0-129.jar(org/apache/spark/sql/execution/ObjectOperator.class)' has location not matching its contents: contains class ObjectOperator\n",
       "error: error while loading PlanLater, class file '/hadoop/yarn/local/filecache/10/spark2-hdp-yarn-archive.tar.gz/spark-sql_2.11-2.1.1.2.6.1.0-129.jar(org/apache/spark/sql/execution/PlanLater.class)' has location not matching its contents: contains class PlanLater\n",
       "error: error while loading RowIterator, class file '/hadoop/yarn/local/filecache/10/spark2-hdp-yarn-archive.tar.gz/spark-sql_2.11-2.1.1.2.6.1.0-129.jar(org/apache/spark/sql/execution/RowIterator.class)' has location not matching its contents: contains class RowIterator\n",
       "error: error while loading FlatMapGroupsInRExec, class file '/hadoop/yarn/local/filecache/10/spark2-hdp-yarn-archive.tar.gz/spark-sql_2.11-2.1.1.2.6.1.0-129.jar(org/apache/spark/sql/execution/FlatMapGroupsInRExec.class)' has location not matching its contents: contains class FlatMapGroupsInRExec\n",
       "error: error while loading TakeOrderedAndProjectExec, class file '/hadoop/yarn/local/filecache/10/spark2-hdp-yarn-archive.tar.gz/spark-sql_2.11-2.1.1.2.6.1.0-129.jar(org/apache/spark/sql/execution/TakeOrderedAndProjectExec.class)' has location not matching its contents: contains class TakeOrderedAndProjectExec\n",
       "error: error while loading AppendColumnsWithObjectExec, class file '/hadoop/yarn/local/filecache/10/spark2-hdp-yarn-archive.tar.gz/spark-sql_2.11-2.1.1.2.6.1.0-129.jar(org/apache/spark/sql/execution/AppendColumnsWithObjectExec.class)' has location not matching its contents: contains class AppendColumnsWithObjectExec\n",
       "error: error while loading LocalLimitExec, class file '/hadoop/yarn/local/filecache/10/spark2-hdp-yarn-archive.tar.gz/spark-sql_2.11-2.1.1.2.6.1.0-129.jar(org/apache/spark/sql/execution/LocalLimitExec.class)' has location not matching its contents: contains class LocalLimitExec\n",
       "error: error while loading UnionExec, class file '/hadoop/yarn/local/filecache/10/spark2-hdp-yarn-archive.tar.gz/spark-sql_2.11-2.1.1.2.6.1.0-129.jar(org/apache/spark/sql/execution/UnionExec.class)' has location not matching its contents: contains class UnionExec\n",
       "error: error while loading PlanSubqueries, class file '/hadoop/yarn/local/filecache/10/spark2-hdp-yarn-archive.tar.gz/spark-sql_2.11-2.1.1.2.6.1.0-129.jar(org/apache/spark/sql/execution/PlanSubqueries.class)' has location not matching its contents: contains class PlanSubqueries\n",
       "error: error while loading CodegenSupport, class file '/hadoop/yarn/local/filecache/10/spark2-hdp-yarn-archive.tar.gz/spark-sql_2.11-2.1.1.2.6.1.0-129.jar(org/apache/spark/sql/execution/CodegenSupport.class)' has location not matching its contents: contains class CodegenSupport\n",
       "error: error while loading ObjectConsumerExec, class file '/hadoop/yarn/local/filecache/10/spark2-hdp-yarn-archive.tar.gz/spark-sql_2.11-2.1.1.2.6.1.0-129.jar(org/apache/spark/sql/execution/ObjectConsumerExec.class)' has location not matching its contents: contains class ObjectConsumerExec\n",
       "error: error while loading CoalesceExec, class file '/hadoop/yarn/local/filecache/10/spark2-hdp-yarn-archive.tar.gz/spark-sql_2.11-2.1.1.2.6.1.0-129.jar(org/apache/spark/sql/execution/CoalesceExec.class)' has location not matching its contents: contains class CoalesceExec\n",
       "error: error while loading ShuffledRowRDD, class file '/hadoop/yarn/local/filecache/10/spark2-hdp-yarn-archive.tar.gz/spark-sql_2.11-2.1.1.2.6.1.0-129.jar(org/apache/spark/sql/execution/ShuffledRowRDD.class)' has location not matching its contents: contains class ShuffledRowRDD\n",
       "error: error while loading SubqueryExec, class file '/hadoop/yarn/local/filecache/10/spark2-hdp-yarn-archive.tar.gz/spark-sql_2.11-2.1.1.2.6.1.0-129.jar(org/apache/spark/sql/execution/SubqueryExec.class)' has location not matching its contents: contains class SubqueryExec\n",
       "error: error while loading GroupedIterator, class file '/hadoop/yarn/local/filecache/10/spark2-hdp-yarn-archive.tar.gz/spark-sql_2.11-2.1.1.2.6.1.0-129.jar(org/apache/spark/sql/execution/GroupedIterator.class)' has location not matching its contents: contains class GroupedIterator\n",
       "error: error while loading RDDConversions, class file '/hadoop/yarn/local/filecache/10/spark2-hdp-yarn-archive.tar.gz/spark-sql_2.11-2.1.1.2.6.1.0-129.jar(org/apache/spark/sql/execution/RDDConversions.class)' has location not matching its contents: contains class RDDConversions\n",
       "error: error while loading OptimizeMetadataOnlyQuery, class file '/hadoop/yarn/local/filecache/10/spark2-hdp-yarn-archive.tar.gz/spark-sql_2.11-2.1.1.2.6.1.0-129.jar(org/apache/spark/sql/execution/OptimizeMetadataOnlyQuery.class)' has location not matching its contents: contains class OptimizeMetadataOnlyQuery\n",
       "error: error while loading QueryExecution, class file '/hadoop/yarn/local/filecache/10/spark2-hdp-yarn-archive.tar.gz/spark-sql_2.11-2.1.1.2.6.1.0-129.jar(org/apache/spark/sql/execution/QueryExecution.class)' has location not matching its contents: contains class QueryExecution\n",
       "error: error while loading LeafExecNode, class file '/hadoop/yarn/local/filecache/10/spark2-hdp-yarn-archive.tar.gz/spark-sql_2.11-2.1.1.2.6.1.0-129.jar(org/apache/spark/sql/execution/LeafExecNode.class)' has location not matching its contents: contains class LeafExecNode\n",
       "error: error while loading CollapseCodegenStages, class file '/hadoop/yarn/local/filecache/10/spark2-hdp-yarn-archive.tar.gz/spark-sql_2.11-2.1.1.2.6.1.0-129.jar(org/apache/spark/sql/execution/CollapseCodegenStages.class)' has location not matching its contents: contains class CollapseCodegenStages\n",
       "error: error while loading QueryExecutionException, class file '/hadoop/yarn/local/filecache/10/spark2-hdp-yarn-archive.tar.gz/spark-sql_2.11-2.1.1.2.6.1.0-129.jar(org/apache/spark/sql/execution/QueryExecutionException.class)' has location not matching its contents: contains class QueryExecutionException\n",
       "error: error while loading CoGroupExec, class file '/hadoop/yarn/local/filecache/10/spark2-hdp-yarn-archive.tar.gz/spark-sql_2.11-2.1.1.2.6.1.0-129.jar(org/apache/spark/sql/execution/CoGroupExec.class)' has location not matching its contents: contains class CoGroupExec\n",
       "error: error while loading ExecSubqueryExpression, class file '/hadoop/yarn/local/filecache/10/spark2-hdp-yarn-archive.tar.gz/spark-sql_2.11-2.1.1.2.6.1.0-129.jar(org/apache/spark/sql/execution/ExecSubqueryExpression.class)' has location not matching its contents: contains class ExecSubqueryExpression\n",
       "error: error while loading BufferedRowIterator, class file '/hadoop/yarn/local/filecache/10/spark2-hdp-yarn-archive.tar.gz/spark-sql_2.11-2.1.1.2.6.1.0-129.jar(org/apache/spark/sql/execution/BufferedRowIterator.class)' has location not matching its contents: contains class BufferedRowIterator\n",
       "error: error while loading RDDScanExec, class file '/hadoop/yarn/local/filecache/10/spark2-hdp-yarn-archive.tar.gz/spark-sql_2.11-2.1.1.2.6.1.0-129.jar(org/apache/spark/sql/execution/RDDScanExec.class)' has location not matching its contents: contains class RDDScanExec\n",
       "error: error while loading AppendColumnsExec, class file '/hadoop/yarn/local/filecache/10/spark2-hdp-yarn-archive.tar.gz/spark-sql_2.11-2.1.1.2.6.1.0-129.jar(org/apache/spark/sql/execution/AppendColumnsExec.class)' has location not matching its contents: contains class AppendColumnsExec\n",
       "error: error while loading DataSourceScanExec, class file '/hadoop/yarn/local/filecache/10/spark2-hdp-yarn-archive.tar.gz/spark-sql_2.11-2.1.1.2.6.1.0-129.jar(org/apache/spark/sql/execution/DataSourceScanExec.class)' has location not matching its contents: contains class DataSourceScanExec\n",
       "error: error while loading SerializeFromObjectExec, class file '/hadoop/yarn/local/filecache/10/spark2-hdp-yarn-archive.tar.gz/spark-sql_2.11-2.1.1.2.6.1.0-129.jar(org/apache/spark/sql/execution/SerializeFromObjectExec.class)' has location not matching its contents: contains class SerializeFromObjectExec\n",
       "error: error while loading ExternalRDDScanExec, class file '/hadoop/yarn/local/filecache/10/spark2-hdp-yarn-archive.tar.gz/spark-sql_2.11-2.1.1.2.6.1.0-129.jar(org/apache/spark/sql/execution/ExternalRDDScanExec.class)' has location not matching its contents: contains class ExternalRDDScanExec\n",
       "error: error while loading CoalescedPartitioner, class file '/hadoop/yarn/local/filecache/10/spark2-hdp-yarn-archive.tar.gz/spark-sql_2.11-2.1.1.2.6.1.0-129.jar(org/apache/spark/sql/execution/CoalescedPartitioner.class)' has location not matching its contents: contains class CoalescedPartitioner\n",
       "error: error while loading UnsafeKVExternalSorter, class file '/hadoop/yarn/local/filecache/10/spark2-hdp-yarn-archive.tar.gz/spark-sql_2.11-2.1.1.2.6.1.0-129.jar(org/apache/spark/sql/execution/UnsafeKVExternalSorter.class)' has location not matching its contents: contains class UnsafeKVExternalSorter\n",
       "error: error while loading SparkOptimizer, class file '/hadoop/yarn/local/filecache/10/spark2-hdp-yarn-archive.tar.gz/spark-sql_2.11-2.1.1.2.6.1.0-129.jar(org/apache/spark/sql/execution/SparkOptimizer.class)' has location not matching its contents: contains class SparkOptimizer\n",
       "error: error while loading DeserializeToObjectExec, class file '/hadoop/yarn/local/filecache/10/spark2-hdp-yarn-archive.tar.gz/spark-sql_2.11-2.1.1.2.6.1.0-129.jar(org/apache/spark/sql/execution/DeserializeToObjectExec.class)' has location not matching its contents: contains class DeserializeToObjectExec\n",
       "error: error while loading SparkStrategies, class file '/hadoop/yarn/local/filecache/10/spark2-hdp-yarn-archive.tar.gz/spark-sql_2.11-2.1.1.2.6.1.0-129.jar(org/apache/spark/sql/execution/SparkStrategies.class)' has location not matching its contents: contains class SparkStrategies\n",
       "error: error while loading CollectLimitExec, class file '/hadoop/yarn/local/filecache/10/spark2-hdp-yarn-archive.tar.gz/spark-sql_2.11-2.1.1.2.6.1.0-129.jar(org/apache/spark/sql/execution/CollectLimitExec.class)' has location not matching its contents: contains class CollectLimitExec\n",
       "error: error while loading RangeExec, class file '/hadoop/yarn/local/filecache/10/spark2-hdp-yarn-archive.tar.gz/spark-sql_2.11-2.1.1.2.6.1.0-129.jar(org/apache/spark/sql/execution/RangeExec.class)' has location not matching its contents: contains class RangeExec\n",
       "error: error while loading ReuseSubquery, class file '/hadoop/yarn/local/filecache/10/spark2-hdp-yarn-archive.tar.gz/spark-sql_2.11-2.1.1.2.6.1.0-129.jar(org/apache/spark/sql/execution/ReuseSubquery.class)' has location not matching its contents: contains class ReuseSubquery\n",
       "error: error while loading SparkStrategy, class file '/hadoop/yarn/local/filecache/10/spark2-hdp-yarn-archive.tar.gz/spark-sql_2.11-2.1.1.2.6.1.0-129.jar(org/apache/spark/sql/execution/SparkStrategy.class)' has location not matching its contents: contains class SparkStrategy\n",
       "error: error while loading GlobalLimitExec, class file '/hadoop/yarn/local/filecache/10/spark2-hdp-yarn-archive.tar.gz/spark-sql_2.11-2.1.1.2.6.1.0-129.jar(org/apache/spark/sql/execution/GlobalLimitExec.class)' has location not matching its contents: contains class GlobalLimitExec\n",
       "error: error while loading GenerateExec, class file '/hadoop/yarn/local/filecache/10/spark2-hdp-yarn-archive.tar.gz/spark-sql_2.11-2.1.1.2.6.1.0-129.jar(org/apache/spark/sql/execution/GenerateExec.class)' has location not matching its contents: contains class GenerateExec\n",
       "error: error while loading UnsafeRowSerializer, class file '/hadoop/yarn/local/filecache/10/spark2-hdp-yarn-archive.tar.gz/spark-sql_2.11-2.1.1.2.6.1.0-129.jar(org/apache/spark/sql/execution/UnsafeRowSerializer.class)' has location not matching its contents: contains class UnsafeRowSerializer\n",
       "error: error while loading CachedData, class file '/hadoop/yarn/local/filecache/10/spark2-hdp-yarn-archive.tar.gz/spark-sql_2.11-2.1.1.2.6.1.0-129.jar(org/apache/spark/sql/execution/CachedData.class)' has location not matching its contents: contains class CachedData\n",
       "error: error while loading SortPrefixUtils, class file '/hadoop/yarn/local/filecache/10/spark2-hdp-yarn-archive.tar.gz/spark-sql_2.11-2.1.1.2.6.1.0-129.jar(org/apache/spark/sql/execution/SortPrefixUtils.class)' has location not matching its contents: contains class SortPrefixUtils\n",
       "error: error while loading SparkPlanner, class file '/hadoop/yarn/local/filecache/10/spark2-hdp-yarn-archive.tar.gz/spark-sql_2.11-2.1.1.2.6.1.0-129.jar(org/apache/spark/sql/execution/SparkPlanner.class)' has location not matching its contents: contains class SparkPlanner\n",
       "error: error while loading BinaryExecNode, class file '/hadoop/yarn/local/filecache/10/spark2-hdp-yarn-archive.tar.gz/spark-sql_2.11-2.1.1.2.6.1.0-129.jar(org/apache/spark/sql/execution/BinaryExecNode.class)' has location not matching its contents: contains class BinaryExecNode\n",
       "error: error while loading UnsafeRowSerializerInstance, class file '/hadoop/yarn/local/filecache/10/spark2-hdp-yarn-archive.tar.gz/spark-sql_2.11-2.1.1.2.6.1.0-129.jar(org/apache/spark/sql/execution/UnsafeRowSerializerInstance.class)' has location not matching its contents: contains class UnsafeRowSerializerInstance\n",
       "error: error while loading FilterExec, class file '/hadoop/yarn/local/filecache/10/spark2-hdp-yarn-archive.tar.gz/spark-sql_2.11-2.1.1.2.6.1.0-129.jar(org/apache/spark/sql/execution/FilterExec.class)' has location not matching its contents: contains class FilterExec\n",
       "error: error while loading package, class file '/hadoop/yarn/local/filecache/10/spark2-hdp-yarn-archive.tar.gz/spark-sql_2.11-2.1.1.2.6.1.0-129.jar(org/apache/spark/sql/execution/joins/package.class)' has location not matching its contents: contains package object joins\n",
       "error: error while loading package, class file '/hadoop/yarn/local/filecache/10/spark2-hdp-yarn-archive.tar.gz/spark-sql_2.11-2.1.1.2.6.1.0-129.jar(org/apache/spark/sql/execution/debug/package.class)' has location not matching its contents: contains package object debug\n"
      ]
     },
     "metadata": {},
     "output_type": "display_data"
    }
   ],
   "source": [
    "//DEPENDS\n",
    "%addjar -f https://repo1.maven.org/maven2/org/lwjgl/lwjgl/3.0.0b/lwjgl-3.0.0b.jar"
   ]
  },
  {
   "cell_type": "code",
   "execution_count": 7,
   "metadata": {
    "collapsed": false
   },
   "outputs": [
    {
     "data": {
      "text/plain": [
       "3.0.0b SNAPSHOT"
      ]
     },
     "execution_count": 7,
     "metadata": {},
     "output_type": "execute_result"
    }
   ],
   "source": [
    "org.lwjgl.Version.getVersion()"
   ]
  },
  {
   "cell_type": "code",
   "execution_count": 8,
   "metadata": {
    "collapsed": false
   },
   "outputs": [
    {
     "name": "stdout",
     "output_type": "stream",
     "text": [
      "(spark.history.kerberos.keytab,none)\n",
      "(spark.eventLog.enabled,true)\n",
      "(spark.app.id,application_1502395407456_0079)\n",
      "(spark.submit.deployMode,cluster)\n",
      "(spark.app.name,8f6ef355-1491-4df1-83df-f24ceade34bd)\n",
      "(spark.yarn.submit.waitAppCompletion,false)\n",
      "(spark.history.ui.port,18081)\n",
      "(spark.driver.extraLibraryPath,/usr/hdp/current/hadoop-client/lib/native:/usr/hdp/current/hadoop-client/lib/native/Linux-amd64-64)\n",
      "(spark.executor.extraLibraryPath,/usr/hdp/current/hadoop-client/lib/native:/usr/hdp/current/hadoop-client/lib/native/Linux-amd64-64)\n",
      "(spark.repl.class.uri,spark://172.16.213.83:43772/classes)\n",
      "(spark.repl.class.outputDir,/hadoop/yarn/local/usercache/elyra/appcache/application_1502395407456_0079/spark-c995b736-dd47-40aa-ab16-9a0dee598c56/repl-450f417a-f048-4a76-aa58-a0bc0c742b7f)\n",
      "(spark.history.provider,org.apache.spark.deploy.history.FsHistoryProvider)\n",
      "(spark.yarn.dist.jars,file:/usr/local/share/jupyter/kernels/spark_2.1_scala_yarn_cluster/lib/toree-assembly-luciano.jar)\n",
      "(spark.ui.filters,org.apache.hadoop.yarn.server.webproxy.amfilter.AmIpFilter)\n",
      "(spark.eventLog.dir,hdfs:///spark2-history/)\n",
      "(spark.yarn.secondary.jars,toree-assembly-luciano.jar)\n",
      "(spark.yarn.app.container.log.dir,/hadoop/yarn/log/application_1502395407456_0079/container_e01_1502395407456_0079_01_000001)\n",
      "(spark.driver.host,172.16.213.83)\n",
      "(spark.org.apache.hadoop.yarn.server.webproxy.amfilter.AmIpFilter.param.PROXY_URI_BASES,http://soldier-master.fyre.ibm.com:8088/proxy/application_1502395407456_0079)\n",
      "(spark.yarn.historyServer.address,soldier-master.fyre.ibm.com:18081)\n",
      "(spark.yarn.app.id,application_1502395407456_0079)\n",
      "(spark.yarn.queue,default)\n",
      "(spark.executor.id,driver)\n",
      "(spark.history.fs.logDirectory,hdfs:///spark2-history/)\n",
      "(spark.master,yarn)\n",
      "(spark.ui.port,0)\n",
      "(spark.history.kerberos.principal,none)\n",
      "(spark.org.apache.hadoop.yarn.server.webproxy.amfilter.AmIpFilter.param.PROXY_HOSTS,soldier-master.fyre.ibm.com)\n",
      "(spark.yarn.am.waitTime,1d)\n",
      "(spark.driver.port,43772)\n",
      "(hive.metastore.warehouse.dir,file:/hadoop/yarn/local/usercache/elyra/appcache/application_1502395407456_0079/container_e01_1502395407456_0079_01_000001/spark-warehouse)\n"
     ]
    }
   ],
   "source": [
    "//DEPENDS\n",
    "sc.getConf.getAll.foreach(println)"
   ]
  }
 ],
 "metadata": {
  "kernelspec": {
   "display_name": "Spark - Scala (YARN Cluster Mode)",
   "language": "scala",
   "name": "spark_scala_yarn_cluster"
  },
  "language_info": {
   "codemirror_mode": "text/x-scala",
   "file_extension": ".scala",
   "mimetype": "text/x-scala",
   "name": "scala",
   "pygments_lexer": "scala",
   "version": "2.11.8"
  }
 },
 "nbformat": 4,
 "nbformat_minor": 0
}
