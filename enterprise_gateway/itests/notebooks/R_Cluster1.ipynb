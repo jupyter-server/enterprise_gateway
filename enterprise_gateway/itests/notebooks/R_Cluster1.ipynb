{
 "cells": [
  {
   "cell_type": "code",
   "execution_count": 1,
   "metadata": {
    "collapsed": false
   },
   "outputs": [
    {
     "name": "stdout",
     "output_type": "stream",
     "text": [
      "[1] \"Hello World\"\n"
     ]
    }
   ],
   "source": [
    "print(\"Hello World\")"
   ]
  },
  {
   "cell_type": "code",
   "execution_count": 1,
   "metadata": {
    "collapsed": false
   },
   "outputs": [
    {
     "name": "stderr",
     "output_type": "stream",
     "text": [
      "Obtaining Spark session...\n",
      "Spark session obtained.\n"
     ]
    },
    {
     "data": {
      "text/html": [
       "'application_1517946766042_0121'"
      ],
      "text/latex": [
       "'application\\_1517946766042\\_0121'"
      ],
      "text/markdown": [
       "'application_1517946766042_0121'"
      ],
      "text/plain": [
       "[1] \"application_1517946766042_0121\""
      ]
     },
     "metadata": {},
     "output_type": "display_data"
    }
   ],
   "source": [
    "SparkR:::callJMethod(SparkR:::callJMethod(sc, \"sc\"), \"applicationId\")"
   ]
  },
  {
   "cell_type": "code",
   "execution_count": 3,
   "metadata": {
    "collapsed": false
   },
   "outputs": [
    {
     "data": {
      "text/html": [
       "'2.2.0.2.6.4.0-91'"
      ],
      "text/latex": [
       "'2.2.0.2.6.4.0-91'"
      ],
      "text/markdown": [
       "'2.2.0.2.6.4.0-91'"
      ],
      "text/plain": [
       "[1] \"2.2.0.2.6.4.0-91\""
      ]
     },
     "metadata": {},
     "output_type": "display_data"
    }
   ],
   "source": [
    "SparkR:::callJMethod(SparkR:::callJMethod(sc, \"sc\"), \"version\")"
   ]
  },
  {
   "cell_type": "code",
   "execution_count": 4,
   "metadata": {
    "collapsed": false
   },
   "outputs": [
    {
     "name": "stderr",
     "output_type": "stream",
     "text": [
      "Warning message in SparkR::sparkR.session(sparkHome = Sys.getenv(\"SPARK_HOME\"), :\n",
      "“Version mismatch between Spark JVM and SparkR package. JVM version was 2.2.0.2.6.4.0-91 , while R package version was 2.2.0”"
     ]
    },
    {
     "data": {
      "text/html": [
       "<strong>spark.master:</strong> 'yarn'"
      ],
      "text/latex": [
       "\\textbf{spark.master:} 'yarn'"
      ],
      "text/markdown": [
       "**spark.master:** 'yarn'"
      ],
      "text/plain": [
       "spark.master \n",
       "      \"yarn\" "
      ]
     },
     "metadata": {},
     "output_type": "display_data"
    }
   ],
   "source": [
    "masterValue <- unlist(sparkR.conf(\"spark.master\"))\n",
    "masterValue"
   ]
  },
  {
   "cell_type": "code",
   "execution_count": 4,
   "metadata": {
    "collapsed": false
   },
   "outputs": [
    {
     "data": {
      "text/html": [
       "<strong>spark.submit.deployMode:</strong> 'cluster'"
      ],
      "text/latex": [
       "\\textbf{spark.submit.deployMode:} 'cluster'"
      ],
      "text/markdown": [
       "**spark.submit.deployMode:** 'cluster'"
      ],
      "text/plain": [
       "spark.submit.deployMode \n",
       "              \"cluster\" "
      ]
     },
     "metadata": {},
     "output_type": "display_data"
    }
   ],
   "source": [
    "deployMode <- unlist(sparkR.conf(\"spark.submit.deployMode\"))\n",
    "deployMode"
   ]
  },
  {
   "cell_type": "code",
   "execution_count": 5,
   "metadata": {
    "collapsed": false
   },
   "outputs": [
    {
     "data": {
      "text/html": [
       "<strong>spark.driver.host:</strong> '172.16.196.75'"
      ],
      "text/latex": [
       "\\textbf{spark.driver.host:} '172.16.196.75'"
      ],
      "text/markdown": [
       "**spark.driver.host:** '172.16.196.75'"
      ],
      "text/plain": [
       "spark.driver.host \n",
       "  \"172.16.196.75\" "
      ]
     },
     "metadata": {},
     "output_type": "display_data"
    }
   ],
   "source": [
    "unlist(sparkR.conf(\"spark.driver.host\"))"
   ]
  }
 ],
 "metadata": {
  "kernelspec": {
   "display_name": "Spark - R (YARN Cluster Mode)",
   "language": "R",
   "name": "spark_r_yarn_cluster"
  },
  "language_info": {
   "codemirror_mode": "r",
   "file_extension": ".r",
   "mimetype": "text/x-r-source",
   "name": "R",
   "pygments_lexer": "r",
   "version": "3.4.2"
  }
 },
 "nbformat": 4,
 "nbformat_minor": 2
}
