{
 "cells": [
  {
   "cell_type": "code",
   "execution_count": null,
   "metadata": {
    "collapsed": false
   },
   "outputs": [],
   "source": [
    "# GET /fake",
    "print 'I am not a real lang!'"
   ]
  }
 ],
 "metadata": {
  "kernelspec": {
   "display_name": "Fake Language 2000",
   "language": "fakelang",
   "name": "fakelang2000"
  },
  "language_info": {
   "codemirror_mode": {
    "name": "fakelang",
    "version": 2000
   },
   "file_extension": ".fl",
   "mimetype": "text/x-fake-lang",
   "name": "fakelang",
   "nbconvert_exporter": "fakelang",
   "pygments_lexer": "fakelang",
   "version": "2000"
  }
 },
 "nbformat": 4,
 "nbformat_minor": 0
}
